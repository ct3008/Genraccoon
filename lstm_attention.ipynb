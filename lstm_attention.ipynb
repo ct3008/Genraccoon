{
 "cells": [
  {
   "cell_type": "code",
   "execution_count": 1,
   "id": "af707337",
   "metadata": {},
   "outputs": [],
   "source": [
    "import pandas as pd\n",
    "import numpy as np\n",
    "import re\n",
    "import nltk\n",
    "from nltk.corpus import stopwords\n",
    "from gensim.models import Word2Vec\n",
    "from sklearn.model_selection import train_test_split\n",
    "from sklearn.utils import resample\n",
    "from sklearn.preprocessing import LabelEncoder, StandardScaler\n",
    "from sklearn.metrics import accuracy_score, classification_report, confusion_matrix\n",
    "from tensorflow.keras.preprocessing.text import Tokenizer\n",
    "from tensorflow.keras.preprocessing.sequence import pad_sequences\n",
    "from tensorflow.keras.utils import to_categorical\n",
    "from tensorflow.keras.models import Model\n",
    "from tensorflow.keras.layers import Input, Embedding, LSTM, Dense, Dropout, Bidirectional, Concatenate, Layer\n",
    "from tensorflow.keras.callbacks import EarlyStopping\n",
    "import tensorflow as tf\n",
    "import matplotlib.pyplot as plt\n",
    "import seaborn as sns"
   ]
  },
  {
   "cell_type": "code",
   "execution_count": 2,
   "id": "9ff465c0",
   "metadata": {},
   "outputs": [
    {
     "name": "stderr",
     "output_type": "stream",
     "text": [
      "[nltk_data] Downloading package stopwords to\n",
      "[nltk_data]     /Users/aarushisharma/nltk_data...\n",
      "[nltk_data]   Package stopwords is already up-to-date!\n"
     ]
    },
    {
     "data": {
      "text/plain": [
       "True"
      ]
     },
     "execution_count": 2,
     "metadata": {},
     "output_type": "execute_result"
    }
   ],
   "source": [
    "# Download stopwords if not already present\n",
    "nltk.download('stopwords')"
   ]
  },
  {
   "cell_type": "code",
   "execution_count": 3,
   "id": "b0279f82",
   "metadata": {},
   "outputs": [],
   "source": [
    "# Set random seed for reproducibility\n",
    "SEED = 42\n",
    "np.random.seed(SEED)"
   ]
  },
  {
   "cell_type": "code",
   "execution_count": 4,
   "id": "e679a896",
   "metadata": {
    "lines_to_next_cell": 1
   },
   "outputs": [],
   "source": [
    "# Load and preprocess data\n",
    "df = pd.read_csv(\"msd_dataset_with_only_clean_lyrics.csv\")\n",
    "df = df[~df['genre'].isna() & ~df['lyrics'].isna()]\n",
    "stopwords_set = set(stopwords.words('english'))"
   ]
  },
  {
   "cell_type": "code",
   "execution_count": 5,
   "id": "b1f94aa9",
   "metadata": {
    "lines_to_next_cell": 1
   },
   "outputs": [],
   "source": [
    "def clean_lyrics(text):\n",
    "    text = re.sub(r\"[^a-zA-Z\\s]\", \"\", text.lower())\n",
    "    tokens = text.split()\n",
    "    return ' '.join([t for t in tokens if t not in stopwords_set])"
   ]
  },
  {
   "cell_type": "code",
   "execution_count": 6,
   "id": "1faa26ba",
   "metadata": {},
   "outputs": [],
   "source": [
    "df['cleaned_lyrics'] = df['lyrics'].apply(clean_lyrics)\n",
    "genre_counts = df['genre'].value_counts()\n",
    "valid_genres = genre_counts[genre_counts >= 20].index\n",
    "df = df[df['genre'].isin(valid_genres)]"
   ]
  },
  {
   "cell_type": "code",
   "execution_count": 7,
   "id": "50a3a7ba",
   "metadata": {},
   "outputs": [],
   "source": [
    "# Dynamically downsample overly dominant genres\n",
    "threshold = 0.3 * len(df)\n",
    "balanced_dfs = []\n",
    "for genre, count in df['genre'].value_counts().items():\n",
    "    genre_df = df[df['genre'] == genre]\n",
    "    if count > threshold:\n",
    "        genre_df = resample(genre_df, replace=False, n_samples=int(threshold), random_state=SEED)\n",
    "    balanced_dfs.append(genre_df)\n",
    "df = pd.concat(balanced_dfs).sample(frac=1, random_state=SEED)"
   ]
  },
  {
   "cell_type": "code",
   "execution_count": 8,
   "id": "f1d8269d",
   "metadata": {},
   "outputs": [],
   "source": [
    "# Tokenization\n",
    "tokenized = df['cleaned_lyrics'].apply(str.split)\n",
    "w2v_model = Word2Vec(sentences=tokenized, vector_size=50, window=5, min_count=3, workers=4)\n",
    "valid_words = set(w2v_model.wv.index_to_key)"
   ]
  },
  {
   "cell_type": "code",
   "execution_count": 9,
   "id": "78bd3f53",
   "metadata": {
    "lines_to_next_cell": 1
   },
   "outputs": [],
   "source": [
    "# Tokenizer\n",
    "tokenizer = Tokenizer()\n",
    "tokenizer.fit_on_texts(df['cleaned_lyrics'])\n",
    "filtered_index = {word: i+1 for i, word in enumerate(valid_words)}\n",
    "tokenizer.word_index = filtered_index\n",
    "tokenizer.index_word = {i: word for word, i in filtered_index.items()}"
   ]
  },
  {
   "cell_type": "code",
   "execution_count": 10,
   "id": "0493caaf",
   "metadata": {
    "lines_to_next_cell": 1
   },
   "outputs": [],
   "source": [
    "# Create sliding windows\n",
    "def create_sliding_windows(seq, window_size=100, step_size=50):\n",
    "    windows = []\n",
    "    for start in range(0, len(seq) - window_size + 1, step_size):\n",
    "        windows.append(seq[start:start+window_size])\n",
    "    if not windows and len(seq) > 0:\n",
    "        windows.append(seq[:window_size])\n",
    "    return windows"
   ]
  },
  {
   "cell_type": "code",
   "execution_count": 11,
   "id": "fe1e68e8",
   "metadata": {},
   "outputs": [],
   "source": [
    "X_seq = []\n",
    "y_seq = []\n",
    "labels = df['genre'].tolist()\n",
    "tokenized_seqs = tokenizer.texts_to_sequences(df['cleaned_lyrics'])"
   ]
  },
  {
   "cell_type": "code",
   "execution_count": 12,
   "id": "887cd1e5",
   "metadata": {},
   "outputs": [],
   "source": [
    "for i, seq in enumerate(tokenized_seqs):\n",
    "    windows = create_sliding_windows(seq, window_size=100, step_size=50)\n",
    "    for window in windows:\n",
    "        padded = pad_sequences([window], maxlen=100)[0]\n",
    "        X_seq.append(padded)\n",
    "        y_seq.append(labels[i])"
   ]
  },
  {
   "cell_type": "code",
   "execution_count": 13,
   "id": "7746c1ec",
   "metadata": {},
   "outputs": [],
   "source": [
    "X = np.array(X_seq)\n",
    "le = LabelEncoder()\n",
    "y_labels = le.fit_transform(y_seq)\n",
    "y = to_categorical(y_labels)"
   ]
  },
  {
   "cell_type": "code",
   "execution_count": 14,
   "id": "10baa436",
   "metadata": {},
   "outputs": [],
   "source": [
    "embedding_matrix = np.zeros((len(filtered_index) + 1, 50))\n",
    "for word, i in filtered_index.items():\n",
    "    embedding_matrix[i] = w2v_model.wv[word]"
   ]
  },
  {
   "cell_type": "code",
   "execution_count": 15,
   "id": "0265c2eb",
   "metadata": {},
   "outputs": [],
   "source": [
    "# Metadata features\n",
    "meta_features = ['duration','tempo','key','loudness'] + [\n",
    "    f'pitch_mean_{i}' for i in range(12)\n",
    "] + [f'pitch_std_{i}' for i in range(12)] + [f'timbre_mean_{i}' for i in range(12)] + [f'timbre_std_{i}' for i in range(12)]\n",
    "df[meta_features] = df[meta_features].fillna(0)\n",
    "scaler = StandardScaler()\n",
    "meta_rows = []\n",
    "for i, seq in enumerate(tokenized_seqs):\n",
    "    windows = create_sliding_windows(seq, window_size=100, step_size=50)\n",
    "    num_windows = len(windows)\n",
    "    meta_row = df.iloc[i][meta_features].values\n",
    "    for _ in range(num_windows):\n",
    "        meta_rows.append(meta_row)"
   ]
  },
  {
   "cell_type": "code",
   "execution_count": 16,
   "id": "57699322",
   "metadata": {},
   "outputs": [],
   "source": [
    "X_meta_all = np.array(meta_rows)\n",
    "X_meta_all = scaler.fit_transform(X_meta_all)"
   ]
  },
  {
   "cell_type": "code",
   "execution_count": 17,
   "id": "97d74661",
   "metadata": {
    "lines_to_next_cell": 1
   },
   "outputs": [],
   "source": [
    "# Split\n",
    "test_size = 0.3\n",
    "val_size = 0.5\n",
    "X_train_lyrics, X_temp_lyrics, X_train_meta, X_temp_meta, y_train, y_temp, y_train_labels, y_temp_labels = train_test_split(\n",
    "    X, X_meta_all, y, y_labels, test_size=test_size, stratify=y_labels, random_state=SEED\n",
    ")\n",
    "X_val_lyrics, X_test_lyrics, X_val_meta, X_test_meta, y_val, y_test, y_val_labels, y_test_labels = train_test_split(\n",
    "    X_temp_lyrics, X_temp_meta, y_temp, y_temp_labels, test_size=val_size, stratify=y_temp_labels, random_state=SEED\n",
    ")"
   ]
  },
  {
   "cell_type": "code",
   "execution_count": 18,
   "id": "135eeaec",
   "metadata": {
    "lines_to_next_cell": 1
   },
   "outputs": [],
   "source": [
    "# Custom Attention Layer (Word-level)\n",
    "class AttentionLayer(Layer):\n",
    "    def __init__(self, **kwargs):\n",
    "        super(AttentionLayer, self).__init__(**kwargs)\n",
    "\n",
    "    def build(self, input_shape):\n",
    "        self.Wa = self.add_weight(name='Wa', shape=(input_shape[-1], input_shape[-1]), initializer='glorot_uniform', trainable=True)\n",
    "        self.ba = self.add_weight(name='ba', shape=(input_shape[-1],), initializer='zeros', trainable=True)\n",
    "        self.ua = self.add_weight(name='ua', shape=(input_shape[-1], 1), initializer='glorot_uniform', trainable=True)\n",
    "        super(AttentionLayer, self).build(input_shape)\n",
    "\n",
    "    def call(self, h):\n",
    "        # h: (batch, timesteps, features)\n",
    "        uit = tf.tanh(tf.tensordot(h, self.Wa, axes=1) + self.ba)\n",
    "        ait = tf.tensordot(uit, self.ua, axes=1)  # (batch, timesteps, 1)\n",
    "        ait = tf.squeeze(ait, -1)  # (batch, timesteps)\n",
    "        ait = tf.nn.softmax(ait, axis=1)  # (batch, timesteps)\n",
    "        ait = tf.expand_dims(ait, -1)  # (batch, timesteps, 1)\n",
    "        weighted_input = h * ait  # (batch, timesteps, features)\n",
    "        context = tf.reduce_sum(weighted_input, axis=1)  # (batch, features)\n",
    "        return context"
   ]
  },
  {
   "cell_type": "code",
   "execution_count": null,
   "id": "d3560ede",
   "metadata": {},
   "outputs": [],
   "source": [
    "from tensorflow.keras.layers import Conv1D, MaxPooling1D\n",
    "\n",
    "# Build and train LSTM+Attention model\n",
    "input_lyrics = Input(shape=(100,))\n",
    "x = Embedding(input_dim=embedding_matrix.shape[0], output_dim=50,\n",
    "              weights=[embedding_matrix],trainable=True, name=\"embed_w2v\")(input_lyrics)\n",
    "\n",
    "# Convolutional n-gram layer\n",
    "x = Conv1D(64, kernel_size=5, activation=\"relu\", padding=\"same\")(x)\n",
    "x = MaxPooling1D(pool_size=2)(x)\n",
    "\n",
    "# Bi-LSTM with dropout and recurrent_dropout\n",
    "x = Bidirectional(LSTM(64,\n",
    "                       return_sequences=True,\n",
    "                       dropout=0.3,\n",
    "                       recurrent_dropout=0.2))(x)\n",
    "\n",
    "# Attention on top of that…\n",
    "x = AttentionLayer()(x)\n",
    "x = Dropout(0.3)(x)"
   ]
  },
  {
   "cell_type": "code",
   "execution_count": 21,
   "id": "5ffa9d50",
   "metadata": {},
   "outputs": [],
   "source": [
    "input_meta = Input(shape=(X_train_meta.shape[1],))\n",
    "combined = Concatenate()([x, input_meta])\n",
    "output = Dense(y.shape[1], activation='softmax')(combined)"
   ]
  },
  {
   "cell_type": "code",
   "execution_count": 22,
   "id": "2bfae81c",
   "metadata": {},
   "outputs": [],
   "source": [
    "model = Model(inputs=[input_lyrics, input_meta], outputs=output)\n",
    "model.compile(optimizer='adam', loss='categorical_crossentropy', metrics=['accuracy'])"
   ]
  },
  {
   "cell_type": "code",
   "execution_count": 23,
   "id": "2eff35e6",
   "metadata": {},
   "outputs": [
    {
     "name": "stdout",
     "output_type": "stream",
     "text": [
      "Epoch 1/20\n",
      "\u001b[1m35/35\u001b[0m \u001b[32m━━━━━━━━━━━━━━━━━━━━\u001b[0m\u001b[37m\u001b[0m \u001b[1m8s\u001b[0m 104ms/step - accuracy: 0.1766 - loss: 2.4948 - val_accuracy: 0.3205 - val_loss: 2.0755\n",
      "Epoch 2/20\n",
      "\u001b[1m35/35\u001b[0m \u001b[32m━━━━━━━━━━━━━━━━━━━━\u001b[0m\u001b[37m\u001b[0m \u001b[1m3s\u001b[0m 73ms/step - accuracy: 0.2908 - loss: 2.1132 - val_accuracy: 0.3868 - val_loss: 1.8682\n",
      "Epoch 3/20\n",
      "\u001b[1m35/35\u001b[0m \u001b[32m━━━━━━━━━━━━━━━━━━━━\u001b[0m\u001b[37m\u001b[0m \u001b[1m3s\u001b[0m 86ms/step - accuracy: 0.3829 - loss: 1.9490 - val_accuracy: 0.4423 - val_loss: 1.7189\n",
      "Epoch 4/20\n",
      "\u001b[1m35/35\u001b[0m \u001b[32m━━━━━━━━━━━━━━━━━━━━\u001b[0m\u001b[37m\u001b[0m \u001b[1m4s\u001b[0m 105ms/step - accuracy: 0.4185 - loss: 1.7573 - val_accuracy: 0.4722 - val_loss: 1.5975\n",
      "Epoch 5/20\n",
      "\u001b[1m35/35\u001b[0m \u001b[32m━━━━━━━━━━━━━━━━━━━━\u001b[0m\u001b[37m\u001b[0m \u001b[1m4s\u001b[0m 106ms/step - accuracy: 0.4545 - loss: 1.6718 - val_accuracy: 0.4765 - val_loss: 1.5196\n",
      "Epoch 6/20\n",
      "\u001b[1m35/35\u001b[0m \u001b[32m━━━━━━━━━━━━━━━━━━━━\u001b[0m\u001b[37m\u001b[0m \u001b[1m4s\u001b[0m 105ms/step - accuracy: 0.5033 - loss: 1.5600 - val_accuracy: 0.5064 - val_loss: 1.4598\n",
      "Epoch 7/20\n",
      "\u001b[1m35/35\u001b[0m \u001b[32m━━━━━━━━━━━━━━━━━━━━\u001b[0m\u001b[37m\u001b[0m \u001b[1m4s\u001b[0m 103ms/step - accuracy: 0.5273 - loss: 1.4398 - val_accuracy: 0.5299 - val_loss: 1.3914\n",
      "Epoch 8/20\n",
      "\u001b[1m35/35\u001b[0m \u001b[32m━━━━━━━━━━━━━━━━━━━━\u001b[0m\u001b[37m\u001b[0m \u001b[1m4s\u001b[0m 104ms/step - accuracy: 0.5627 - loss: 1.3243 - val_accuracy: 0.5534 - val_loss: 1.3275\n",
      "Epoch 9/20\n",
      "\u001b[1m35/35\u001b[0m \u001b[32m━━━━━━━━━━━━━━━━━━━━\u001b[0m\u001b[37m\u001b[0m \u001b[1m4s\u001b[0m 103ms/step - accuracy: 0.6045 - loss: 1.2092 - val_accuracy: 0.5662 - val_loss: 1.2920\n",
      "Epoch 10/20\n",
      "\u001b[1m35/35\u001b[0m \u001b[32m━━━━━━━━━━━━━━━━━━━━\u001b[0m\u001b[37m\u001b[0m \u001b[1m4s\u001b[0m 107ms/step - accuracy: 0.6153 - loss: 1.1747 - val_accuracy: 0.5897 - val_loss: 1.2290\n",
      "Epoch 11/20\n",
      "\u001b[1m35/35\u001b[0m \u001b[32m━━━━━━━━━━━━━━━━━━━━\u001b[0m\u001b[37m\u001b[0m \u001b[1m4s\u001b[0m 103ms/step - accuracy: 0.6720 - loss: 1.0298 - val_accuracy: 0.6090 - val_loss: 1.2127\n",
      "Epoch 12/20\n",
      "\u001b[1m35/35\u001b[0m \u001b[32m━━━━━━━━━━━━━━━━━━━━\u001b[0m\u001b[37m\u001b[0m \u001b[1m4s\u001b[0m 105ms/step - accuracy: 0.7147 - loss: 0.8993 - val_accuracy: 0.6132 - val_loss: 1.1398\n",
      "Epoch 13/20\n",
      "\u001b[1m35/35\u001b[0m \u001b[32m━━━━━━━━━━━━━━━━━━━━\u001b[0m\u001b[37m\u001b[0m \u001b[1m4s\u001b[0m 107ms/step - accuracy: 0.7525 - loss: 0.7711 - val_accuracy: 0.6303 - val_loss: 1.1486\n",
      "Epoch 14/20\n",
      "\u001b[1m35/35\u001b[0m \u001b[32m━━━━━━━━━━━━━━━━━━━━\u001b[0m\u001b[37m\u001b[0m \u001b[1m4s\u001b[0m 108ms/step - accuracy: 0.7834 - loss: 0.6811 - val_accuracy: 0.6346 - val_loss: 1.1259\n",
      "Epoch 15/20\n",
      "\u001b[1m35/35\u001b[0m \u001b[32m━━━━━━━━━━━━━━━━━━━━\u001b[0m\u001b[37m\u001b[0m \u001b[1m4s\u001b[0m 106ms/step - accuracy: 0.8153 - loss: 0.5934 - val_accuracy: 0.6368 - val_loss: 1.1963\n",
      "Epoch 16/20\n",
      "\u001b[1m35/35\u001b[0m \u001b[32m━━━━━━━━━━━━━━━━━━━━\u001b[0m\u001b[37m\u001b[0m \u001b[1m4s\u001b[0m 108ms/step - accuracy: 0.8242 - loss: 0.5593 - val_accuracy: 0.6603 - val_loss: 1.2005\n",
      "Epoch 17/20\n",
      "\u001b[1m35/35\u001b[0m \u001b[32m━━━━━━━━━━━━━━━━━━━━\u001b[0m\u001b[37m\u001b[0m \u001b[1m4s\u001b[0m 106ms/step - accuracy: 0.8571 - loss: 0.4771 - val_accuracy: 0.6624 - val_loss: 1.1723\n",
      "Epoch 18/20\n",
      "\u001b[1m35/35\u001b[0m \u001b[32m━━━━━━━━━━━━━━━━━━━━\u001b[0m\u001b[37m\u001b[0m \u001b[1m4s\u001b[0m 107ms/step - accuracy: 0.8884 - loss: 0.4138 - val_accuracy: 0.6368 - val_loss: 1.2526\n",
      "Epoch 19/20\n",
      "\u001b[1m35/35\u001b[0m \u001b[32m━━━━━━━━━━━━━━━━━━━━\u001b[0m\u001b[37m\u001b[0m \u001b[1m4s\u001b[0m 109ms/step - accuracy: 0.9032 - loss: 0.3399 - val_accuracy: 0.6432 - val_loss: 1.2764\n",
      "Epoch 20/20\n",
      "\u001b[1m35/35\u001b[0m \u001b[32m━━━━━━━━━━━━━━━━━━━━\u001b[0m\u001b[37m\u001b[0m \u001b[1m4s\u001b[0m 107ms/step - accuracy: 0.8987 - loss: 0.3427 - val_accuracy: 0.6453 - val_loss: 1.2593\n"
     ]
    }
   ],
   "source": [
    "# Early stopping\n",
    "early = EarlyStopping(monitor='val_accuracy', patience=3, restore_best_weights=True)\n",
    "history = model.fit([X_train_lyrics, X_train_meta], y_train,\n",
    "          validation_data=([X_val_lyrics, X_val_meta], y_val),\n",
    "          batch_size=64, epochs=20, callbacks=[early], verbose=1)"
   ]
  },
  {
   "cell_type": "code",
   "execution_count": 24,
   "id": "68216dd4",
   "metadata": {},
   "outputs": [
    {
     "name": "stdout",
     "output_type": "stream",
     "text": [
      "\u001b[1m15/15\u001b[0m \u001b[32m━━━━━━━━━━━━━━━━━━━━\u001b[0m\u001b[37m\u001b[0m \u001b[1m1s\u001b[0m 54ms/step\n",
      "Test Accuracy on held-out set: 0.6389\n",
      "\n",
      "Classification Report:\n",
      "              precision    recall  f1-score   support\n",
      "\n",
      "       Blues       0.61      0.63      0.62        30\n",
      "     Country       0.14      0.20      0.16        15\n",
      "  Electronic       0.63      0.55      0.59        22\n",
      "        Folk       1.00      0.25      0.40         4\n",
      "        Jazz       0.50      0.41      0.45        32\n",
      "       Latin       0.33      0.20      0.25        10\n",
      "       Metal       0.58      0.44      0.50        25\n",
      "         Pop       0.60      0.65      0.62        69\n",
      "        Punk       0.31      0.44      0.36         9\n",
      "         Rap       0.92      0.88      0.90        93\n",
      "      Reggae       0.91      0.64      0.75        33\n",
      "         RnB       0.78      0.64      0.70        11\n",
      "        Rock       0.59      0.69      0.63       115\n",
      "\n",
      "    accuracy                           0.64       468\n",
      "   macro avg       0.61      0.51      0.53       468\n",
      "weighted avg       0.66      0.64      0.64       468\n",
      "\n"
     ]
    }
   ],
   "source": [
    "# Evaluate\n",
    "y_pred = np.argmax(model.predict([X_test_lyrics, X_test_meta]), axis=1)\n",
    "y_true = y_test_labels\n",
    "test_acc = accuracy_score(y_true, y_pred)\n",
    "print(f\"Test Accuracy on held-out set: {test_acc:.4f}\")\n",
    "print(\"\\nClassification Report:\")\n",
    "print(classification_report(y_true, y_pred, target_names=le.classes_, zero_division=0))"
   ]
  },
  {
   "cell_type": "code",
   "execution_count": 26,
   "id": "833d592a",
   "metadata": {},
   "outputs": [
    {
     "data": {
      "image/png": "[encoded data removed]",
      "text/plain": [
       "<Figure size 1200x1000 with 2 Axes>"
      ]
     },
     "metadata": {},
     "output_type": "display_data"
    }
   ],
   "source": [
    "cm = confusion_matrix(y_true, y_pred)\n",
    "plt.figure(figsize=(12, 10))\n",
    "sns.heatmap(cm, annot=True, fmt='d', cmap='Blues', xticklabels=le.classes_, yticklabels=le.classes_)\n",
    "plt.title('Confusion Matrix')\n",
    "plt.xlabel('Predicted')\n",
    "plt.ylabel('Actual')\n",
    "plt.xticks(rotation=90)\n",
    "plt.tight_layout()\n",
    "plt.show()"
   ]
  },
  {
   "cell_type": "code",
   "execution_count": 31,
   "id": "abd3d0e1",
   "metadata": {},
   "outputs": [
    {
     "name": "stdout",
     "output_type": "stream",
     "text": [
      "\n",
      "Sample 57\n",
      "Actual Genre   : Rock\n",
      "Predicted Genre: Rock\n",
      "\n",
      "Sample 207\n",
      "Actual Genre   : Electronic\n",
      "Predicted Genre: Electronic\n",
      "\n",
      "Sample 139\n",
      "Actual Genre   : Rock\n",
      "Predicted Genre: Rock\n",
      "\n",
      "Sample 44\n",
      "Actual Genre   : Rock\n",
      "Predicted Genre: Rock\n",
      "\n",
      "Sample 327\n",
      "Actual Genre   : Reggae\n",
      "Predicted Genre: Rock\n"
     ]
    }
   ],
   "source": [
    "# Random sample of predictions vs actual\n",
    "sample_idxs = np.random.choice(len(X_test_lyrics), size=5, replace=False)\n",
    "for i in sample_idxs:\n",
    "    actual = le.inverse_transform([y_test_labels[i]])[0]\n",
    "    predicted = le.inverse_transform([y_pred[i]])[0]\n",
    "    print(f\"\\nSample {i}\")\n",
    "    print(\"Actual Genre   :\", actual)\n",
    "    print(\"Predicted Genre:\", predicted) "
   ]
  }
 ],
 "metadata": {
  "jupytext": {
   "cell_metadata_filter": "-all",
   "formats": "ipynb,py",
   "main_language": "python"
  },
  "kernelspec": {
   "display_name": "Python 3",
   "language": "python",
   "name": "python3"
  },
  "language_info": {
   "codemirror_mode": {
    "name": "ipython",
    "version": 3
   },
   "file_extension": ".py",
   "mimetype": "text/x-python",
   "name": "python",
   "nbconvert_exporter": "python",
   "pygments_lexer": "ipython3",
   "version": "3.12.3"
  }
 },
 "nbformat": 4,
 "nbformat_minor": 5
}
