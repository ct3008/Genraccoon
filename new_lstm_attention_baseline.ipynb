{
 "cells": [
  {
   "cell_type": "code",
   "execution_count": 1,
   "id": "af707337",
   "metadata": {},
   "outputs": [],
   "source": [
    "import pandas as pd\n",
    "import numpy as np\n",
    "import re\n",
    "import nltk\n",
    "from nltk.corpus import stopwords\n",
    "from gensim.models import Word2Vec\n",
    "from sklearn.model_selection import train_test_split\n",
    "from sklearn.utils import resample\n",
    "from sklearn.preprocessing import LabelEncoder, StandardScaler\n",
    "from sklearn.metrics import accuracy_score, classification_report, confusion_matrix\n",
    "from tensorflow.keras.preprocessing.text import Tokenizer\n",
    "from tensorflow.keras.preprocessing.sequence import pad_sequences\n",
    "from tensorflow.keras.utils import to_categorical\n",
    "from tensorflow.keras.models import Model\n",
    "from tensorflow.keras.layers import Input, Embedding, LSTM, Dense, Dropout, Bidirectional, Concatenate, Layer\n",
    "from tensorflow.keras.callbacks import EarlyStopping\n",
    "import tensorflow as tf\n",
    "import matplotlib.pyplot as plt\n",
    "import seaborn as sns"
   ]
  },
  {
   "cell_type": "code",
   "execution_count": 2,
   "id": "9ff465c0",
   "metadata": {},
   "outputs": [
    {
     "name": "stderr",
     "output_type": "stream",
     "text": [
      "[nltk_data] Downloading package stopwords to\n",
      "[nltk_data]     /Users/aarushisharma/nltk_data...\n",
      "[nltk_data]   Package stopwords is already up-to-date!\n"
     ]
    },
    {
     "data": {
      "text/plain": [
       "True"
      ]
     },
     "execution_count": 2,
     "metadata": {},
     "output_type": "execute_result"
    }
   ],
   "source": [
    "# Download stopwords if not already present\n",
    "nltk.download('stopwords')"
   ]
  },
  {
   "cell_type": "code",
   "execution_count": 3,
   "id": "b0279f82",
   "metadata": {},
   "outputs": [],
   "source": [
    "# Set random seed for reproducibility\n",
    "SEED = 42\n",
    "np.random.seed(SEED)"
   ]
  },
  {
   "cell_type": "code",
   "execution_count": 24,
   "id": "e679a896",
   "metadata": {
    "lines_to_next_cell": 1
   },
   "outputs": [],
   "source": [
    "# Load and preprocess data\n",
    "df = pd.read_csv(\"msd_dataset_with_only_clean_lyrics.csv\")\n",
    "df = df[~df['genre'].isna() & ~df['lyrics'].isna()]\n",
    "stopwords_set = set(stopwords.words('english'))"
   ]
  },
  {
   "cell_type": "code",
   "execution_count": 26,
   "id": "b1f94aa9",
   "metadata": {
    "lines_to_next_cell": 1
   },
   "outputs": [],
   "source": [
    "def clean_lyrics(text):\n",
    "    text = re.sub(r\"[^a-zA-Z\\s]\", \"\", text.lower())\n",
    "    tokens = text.split()\n",
    "    return ' '.join([t for t in tokens if t not in stopwords_set])"
   ]
  },
  {
   "cell_type": "code",
   "execution_count": 27,
   "id": "1faa26ba",
   "metadata": {},
   "outputs": [],
   "source": [
    "df['cleaned_lyrics'] = df['lyrics'].apply(clean_lyrics)\n",
    "genre_counts = df['genre'].value_counts()\n",
    "valid_genres = genre_counts[genre_counts >= 20].index\n",
    "df = df[df['genre'].isin(valid_genres)]"
   ]
  },
  {
   "cell_type": "code",
   "execution_count": 29,
   "id": "50a3a7ba",
   "metadata": {},
   "outputs": [],
   "source": [
    "# Dynamically downsample overly dominant genres\n",
    "threshold = 0.3 * len(df)\n",
    "balanced_dfs = []\n",
    "for genre, count in df['genre'].value_counts().items():\n",
    "    genre_df = df[df['genre'] == genre]\n",
    "    if count > threshold:\n",
    "        genre_df = resample(genre_df, replace=False, n_samples=int(threshold), random_state=SEED)\n",
    "    balanced_dfs.append(genre_df)\n",
    "df = pd.concat(balanced_dfs).sample(frac=1, random_state=SEED)"
   ]
  },
  {
   "cell_type": "code",
   "execution_count": 30,
   "id": "f1d8269d",
   "metadata": {},
   "outputs": [],
   "source": [
    "# Tokenization\n",
    "tokenized = df['cleaned_lyrics'].apply(str.split)\n",
    "w2v_model = Word2Vec(sentences=tokenized, vector_size=50, window=5, min_count=3, workers=4)\n",
    "valid_words = set(w2v_model.wv.index_to_key)"
   ]
  },
  {
   "cell_type": "code",
   "execution_count": 31,
   "id": "78bd3f53",
   "metadata": {
    "lines_to_next_cell": 1
   },
   "outputs": [],
   "source": [
    "# Tokenizer\n",
    "tokenizer = Tokenizer()\n",
    "tokenizer.fit_on_texts(df['cleaned_lyrics'])\n",
    "filtered_index = {word: i+1 for i, word in enumerate(valid_words)}\n",
    "tokenizer.word_index = filtered_index\n",
    "tokenizer.index_word = {i: word for word, i in filtered_index.items()}"
   ]
  },
  {
   "cell_type": "code",
   "execution_count": 32,
   "id": "0493caaf",
   "metadata": {
    "lines_to_next_cell": 1
   },
   "outputs": [],
   "source": [
    "# Create sliding windows\n",
    "def create_sliding_windows(seq, window_size=100, step_size=50):\n",
    "    windows = []\n",
    "    for start in range(0, len(seq) - window_size + 1, step_size):\n",
    "        windows.append(seq[start:start+window_size])\n",
    "    if not windows and len(seq) > 0:\n",
    "        windows.append(seq[:window_size])\n",
    "    return windows"
   ]
  },
  {
   "cell_type": "code",
   "execution_count": 33,
   "id": "fe1e68e8",
   "metadata": {},
   "outputs": [],
   "source": [
    "X_seq = []\n",
    "y_seq = []\n",
    "labels = df['genre'].tolist()\n",
    "tokenized_seqs = tokenizer.texts_to_sequences(df['cleaned_lyrics'])"
   ]
  },
  {
   "cell_type": "code",
   "execution_count": 34,
   "id": "887cd1e5",
   "metadata": {},
   "outputs": [],
   "source": [
    "for i, seq in enumerate(tokenized_seqs):\n",
    "    windows = create_sliding_windows(seq, window_size=100, step_size=50)\n",
    "    for window in windows:\n",
    "        padded = pad_sequences([window], maxlen=100)[0]\n",
    "        X_seq.append(padded)\n",
    "        y_seq.append(labels[i])"
   ]
  },
  {
   "cell_type": "code",
   "execution_count": 35,
   "id": "7746c1ec",
   "metadata": {},
   "outputs": [],
   "source": [
    "X = np.array(X_seq)\n",
    "le = LabelEncoder()\n",
    "y_labels = le.fit_transform(y_seq)\n",
    "y = to_categorical(y_labels)"
   ]
  },
  {
   "cell_type": "code",
   "execution_count": 36,
   "id": "10baa436",
   "metadata": {},
   "outputs": [],
   "source": [
    "embedding_matrix = np.zeros((len(filtered_index) + 1, 50))\n",
    "for word, i in filtered_index.items():\n",
    "    embedding_matrix[i] = w2v_model.wv[word]"
   ]
  },
  {
   "cell_type": "code",
   "execution_count": 37,
   "id": "0265c2eb",
   "metadata": {},
   "outputs": [],
   "source": [
    "# Metadata features\n",
    "meta_features = ['duration','tempo','key','loudness'] + [\n",
    "    f'pitch_mean_{i}' for i in range(12)\n",
    "] + [f'pitch_std_{i}' for i in range(12)] + [f'timbre_mean_{i}' for i in range(12)] + [f'timbre_std_{i}' for i in range(12)]\n",
    "df[meta_features] = df[meta_features].fillna(0)\n",
    "scaler = StandardScaler()\n",
    "meta_rows = []\n",
    "for i, seq in enumerate(tokenized_seqs):\n",
    "    windows = create_sliding_windows(seq, window_size=100, step_size=50)\n",
    "    num_windows = len(windows)\n",
    "    meta_row = df.iloc[i][meta_features].values\n",
    "    for _ in range(num_windows):\n",
    "        meta_rows.append(meta_row)"
   ]
  },
  {
   "cell_type": "code",
   "execution_count": 38,
   "id": "57699322",
   "metadata": {},
   "outputs": [],
   "source": [
    "X_meta_all = np.array(meta_rows)\n",
    "X_meta_all = scaler.fit_transform(X_meta_all)"
   ]
  },
  {
   "cell_type": "code",
   "execution_count": 39,
   "id": "97d74661",
   "metadata": {
    "lines_to_next_cell": 1
   },
   "outputs": [],
   "source": [
    "# Split\n",
    "test_size = 0.3\n",
    "val_size = 0.5\n",
    "X_train_lyrics, X_temp_lyrics, X_train_meta, X_temp_meta, y_train, y_temp, y_train_labels, y_temp_labels = train_test_split(\n",
    "    X, X_meta_all, y, y_labels, test_size=test_size, stratify=y_labels, random_state=SEED\n",
    ")\n",
    "X_val_lyrics, X_test_lyrics, X_val_meta, X_test_meta, y_val, y_test, y_val_labels, y_test_labels = train_test_split(\n",
    "    X_temp_lyrics, X_temp_meta, y_temp, y_temp_labels, test_size=val_size, stratify=y_temp_labels, random_state=SEED\n",
    ")"
   ]
  },
  {
   "cell_type": "code",
   "execution_count": 41,
   "id": "135eeaec",
   "metadata": {
    "lines_to_next_cell": 1
   },
   "outputs": [],
   "source": [
    "# Custom Attention Layer (Word-level)\n",
    "class AttentionLayer(Layer):\n",
    "    def __init__(self, **kwargs):\n",
    "        super(AttentionLayer, self).__init__(**kwargs)\n",
    "\n",
    "    def build(self, input_shape):\n",
    "        self.Wa = self.add_weight(name='Wa', shape=(input_shape[-1], input_shape[-1]), initializer='glorot_uniform', trainable=True)\n",
    "        self.ba = self.add_weight(name='ba', shape=(input_shape[-1],), initializer='zeros', trainable=True)\n",
    "        self.ua = self.add_weight(name='ua', shape=(input_shape[-1], 1), initializer='glorot_uniform', trainable=True)\n",
    "        super(AttentionLayer, self).build(input_shape)\n",
    "\n",
    "    def call(self, h):\n",
    "        # h: (batch, timesteps, features)\n",
    "        uit = tf.tanh(tf.tensordot(h, self.Wa, axes=1) + self.ba)\n",
    "        ait = tf.tensordot(uit, self.ua, axes=1)  # (batch, timesteps, 1)\n",
    "        ait = tf.squeeze(ait, -1)  # (batch, timesteps)\n",
    "        ait = tf.nn.softmax(ait, axis=1)  # (batch, timesteps)\n",
    "        ait = tf.expand_dims(ait, -1)  # (batch, timesteps, 1)\n",
    "        weighted_input = h * ait  # (batch, timesteps, features)\n",
    "        context = tf.reduce_sum(weighted_input, axis=1)  # (batch, features)\n",
    "        return context"
   ]
  },
  {
   "cell_type": "code",
   "execution_count": 42,
   "id": "d3560ede",
   "metadata": {},
   "outputs": [],
   "source": [
    "# Build and train LSTM+Attention model\n",
    "input_lyrics = Input(shape=(100,))\n",
    "x = Embedding(input_dim=embedding_matrix.shape[0], output_dim=50,\n",
    "              weights=[embedding_matrix], trainable=False)(input_lyrics)\n",
    "x = Bidirectional(LSTM(64, return_sequences=True))(x)  # return_sequences=True for attention\n",
    "x = AttentionLayer()(x)\n",
    "x = Dropout(0.3)(x)"
   ]
  },
  {
   "cell_type": "code",
   "execution_count": 43,
   "id": "5ffa9d50",
   "metadata": {},
   "outputs": [],
   "source": [
    "input_meta = Input(shape=(X_train_meta.shape[1],))\n",
    "combined = Concatenate()([x, input_meta])\n",
    "output = Dense(y.shape[1], activation='softmax')(combined)"
   ]
  },
  {
   "cell_type": "code",
   "execution_count": 44,
   "id": "2bfae81c",
   "metadata": {},
   "outputs": [],
   "source": [
    "model = Model(inputs=[input_lyrics, input_meta], outputs=output)\n",
    "model.compile(optimizer='adam', loss='categorical_crossentropy', metrics=['accuracy'])"
   ]
  },
  {
   "cell_type": "code",
   "execution_count": 45,
   "id": "2eff35e6",
   "metadata": {},
   "outputs": [
    {
     "name": "stdout",
     "output_type": "stream",
     "text": [
      "Epoch 1/20\n",
      "\u001b[1m34/34\u001b[0m \u001b[32m━━━━━━━━━━━━━━━━━━━━\u001b[0m\u001b[37m\u001b[0m \u001b[1m6s\u001b[0m 110ms/step - accuracy: 0.1742 - loss: 2.5042 - val_accuracy: 0.2790 - val_loss: 2.1391\n",
      "Epoch 2/20\n",
      "\u001b[1m34/34\u001b[0m \u001b[32m━━━━━━━━━━━━━━━━━━━━\u001b[0m\u001b[37m\u001b[0m \u001b[1m3s\u001b[0m 79ms/step - accuracy: 0.3004 - loss: 2.1007 - val_accuracy: 0.3305 - val_loss: 1.9186\n",
      "Epoch 3/20\n",
      "\u001b[1m34/34\u001b[0m \u001b[32m━━━━━━━━━━━━━━━━━━━━\u001b[0m\u001b[37m\u001b[0m \u001b[1m4s\u001b[0m 111ms/step - accuracy: 0.3869 - loss: 1.8555 - val_accuracy: 0.4249 - val_loss: 1.7870\n",
      "Epoch 4/20\n",
      "\u001b[1m34/34\u001b[0m \u001b[32m━━━━━━━━━━━━━━━━━━━━\u001b[0m\u001b[37m\u001b[0m \u001b[1m3s\u001b[0m 92ms/step - accuracy: 0.4461 - loss: 1.7363 - val_accuracy: 0.4485 - val_loss: 1.6879\n",
      "Epoch 5/20\n",
      "\u001b[1m34/34\u001b[0m \u001b[32m━━━━━━━━━━━━━━━━━━━━\u001b[0m\u001b[37m\u001b[0m \u001b[1m4s\u001b[0m 102ms/step - accuracy: 0.4500 - loss: 1.6731 - val_accuracy: 0.4635 - val_loss: 1.6153\n",
      "Epoch 6/20\n",
      "\u001b[1m34/34\u001b[0m \u001b[32m━━━━━━━━━━━━━━━━━━━━\u001b[0m\u001b[37m\u001b[0m \u001b[1m4s\u001b[0m 117ms/step - accuracy: 0.4835 - loss: 1.5809 - val_accuracy: 0.4657 - val_loss: 1.5552\n",
      "Epoch 7/20\n",
      "\u001b[1m34/34\u001b[0m \u001b[32m━━━━━━━━━━━━━━━━━━━━\u001b[0m\u001b[37m\u001b[0m \u001b[1m4s\u001b[0m 114ms/step - accuracy: 0.4860 - loss: 1.5348 - val_accuracy: 0.4592 - val_loss: 1.5188\n",
      "Epoch 8/20\n",
      "\u001b[1m34/34\u001b[0m \u001b[32m━━━━━━━━━━━━━━━━━━━━\u001b[0m\u001b[37m\u001b[0m \u001b[1m4s\u001b[0m 112ms/step - accuracy: 0.5084 - loss: 1.4597 - val_accuracy: 0.4785 - val_loss: 1.4939\n",
      "Epoch 9/20\n",
      "\u001b[1m34/34\u001b[0m \u001b[32m━━━━━━━━━━━━━━━━━━━━\u001b[0m\u001b[37m\u001b[0m \u001b[1m4s\u001b[0m 106ms/step - accuracy: 0.5115 - loss: 1.4584 - val_accuracy: 0.4957 - val_loss: 1.4818\n",
      "Epoch 10/20\n",
      "\u001b[1m34/34\u001b[0m \u001b[32m━━━━━━━━━━━━━━━━━━━━\u001b[0m\u001b[37m\u001b[0m \u001b[1m4s\u001b[0m 106ms/step - accuracy: 0.5163 - loss: 1.4582 - val_accuracy: 0.4893 - val_loss: 1.4474\n",
      "Epoch 11/20\n",
      "\u001b[1m34/34\u001b[0m \u001b[32m━━━━━━━━━━━━━━━━━━━━\u001b[0m\u001b[37m\u001b[0m \u001b[1m4s\u001b[0m 108ms/step - accuracy: 0.5068 - loss: 1.4101 - val_accuracy: 0.4914 - val_loss: 1.4291\n",
      "Epoch 12/20\n",
      "\u001b[1m34/34\u001b[0m \u001b[32m━━━━━━━━━━━━━━━━━━━━\u001b[0m\u001b[37m\u001b[0m \u001b[1m4s\u001b[0m 124ms/step - accuracy: 0.5379 - loss: 1.3541 - val_accuracy: 0.5086 - val_loss: 1.4334\n",
      "Epoch 13/20\n",
      "\u001b[1m34/34\u001b[0m \u001b[32m━━━━━━━━━━━━━━━━━━━━\u001b[0m\u001b[37m\u001b[0m \u001b[1m4s\u001b[0m 110ms/step - accuracy: 0.5406 - loss: 1.3553 - val_accuracy: 0.5150 - val_loss: 1.4163\n",
      "Epoch 14/20\n",
      "\u001b[1m34/34\u001b[0m \u001b[32m━━━━━━━━━━━━━━━━━━━━\u001b[0m\u001b[37m\u001b[0m \u001b[1m4s\u001b[0m 113ms/step - accuracy: 0.5719 - loss: 1.2730 - val_accuracy: 0.4871 - val_loss: 1.4164\n",
      "Epoch 15/20\n",
      "\u001b[1m34/34\u001b[0m \u001b[32m━━━━━━━━━━━━━━━━━━━━\u001b[0m\u001b[37m\u001b[0m \u001b[1m4s\u001b[0m 109ms/step - accuracy: 0.5686 - loss: 1.2851 - val_accuracy: 0.5107 - val_loss: 1.3894\n",
      "Epoch 16/20\n",
      "\u001b[1m34/34\u001b[0m \u001b[32m━━━━━━━━━━━━━━━━━━━━\u001b[0m\u001b[37m\u001b[0m \u001b[1m4s\u001b[0m 110ms/step - accuracy: 0.5706 - loss: 1.2528 - val_accuracy: 0.5172 - val_loss: 1.3840\n",
      "Epoch 17/20\n",
      "\u001b[1m34/34\u001b[0m \u001b[32m━━━━━━━━━━━━━━━━━━━━\u001b[0m\u001b[37m\u001b[0m \u001b[1m4s\u001b[0m 115ms/step - accuracy: 0.5720 - loss: 1.2423 - val_accuracy: 0.5172 - val_loss: 1.3972\n",
      "Epoch 18/20\n",
      "\u001b[1m34/34\u001b[0m \u001b[32m━━━━━━━━━━━━━━━━━━━━\u001b[0m\u001b[37m\u001b[0m \u001b[1m4s\u001b[0m 111ms/step - accuracy: 0.5606 - loss: 1.2549 - val_accuracy: 0.5129 - val_loss: 1.3789\n",
      "Epoch 19/20\n",
      "\u001b[1m34/34\u001b[0m \u001b[32m━━━━━━━━━━━━━━━━━━━━\u001b[0m\u001b[37m\u001b[0m \u001b[1m4s\u001b[0m 115ms/step - accuracy: 0.6165 - loss: 1.2074 - val_accuracy: 0.5300 - val_loss: 1.3665\n",
      "Epoch 20/20\n",
      "\u001b[1m34/34\u001b[0m \u001b[32m━━━━━━━━━━━━━━━━━━━━\u001b[0m\u001b[37m\u001b[0m \u001b[1m4s\u001b[0m 112ms/step - accuracy: 0.6017 - loss: 1.1806 - val_accuracy: 0.5279 - val_loss: 1.3979\n"
     ]
    }
   ],
   "source": [
    "# Early stopping\n",
    "early = EarlyStopping(monitor='val_accuracy', patience=3, restore_best_weights=True)\n",
    "history = model.fit([X_train_lyrics, X_train_meta], y_train,\n",
    "          validation_data=([X_val_lyrics, X_val_meta], y_val),\n",
    "          batch_size=64, epochs=20, callbacks=[early], verbose=1)"
   ]
  },
  {
   "cell_type": "code",
   "execution_count": 46,
   "id": "68216dd4",
   "metadata": {},
   "outputs": [
    {
     "name": "stdout",
     "output_type": "stream",
     "text": [
      "\u001b[1m15/15\u001b[0m \u001b[32m━━━━━━━━━━━━━━━━━━━━\u001b[0m\u001b[37m\u001b[0m \u001b[1m1s\u001b[0m 30ms/step\n",
      "Test Accuracy on held-out set: 0.5332\n",
      "\n",
      "Classification Report:\n",
      "              precision    recall  f1-score   support\n",
      "\n",
      "       Blues       0.81      0.57      0.67        30\n",
      "     Country       0.17      0.07      0.10        15\n",
      "  Electronic       0.64      0.32      0.42        22\n",
      "        Folk       0.00      0.00      0.00         4\n",
      "        Jazz       0.40      0.18      0.25        33\n",
      "       Latin       0.00      0.00      0.00         9\n",
      "       Metal       0.54      0.54      0.54        24\n",
      "         Pop       0.40      0.36      0.38        69\n",
      "        Punk       1.00      0.22      0.36         9\n",
      "         Rap       0.73      0.82      0.77        94\n",
      "      Reggae       0.67      0.55      0.60        33\n",
      "         RnB       0.60      0.27      0.38        11\n",
      "        Rock       0.44      0.70      0.54       114\n",
      "\n",
      "    accuracy                           0.53       467\n",
      "   macro avg       0.49      0.35      0.38       467\n",
      "weighted avg       0.54      0.53      0.51       467\n",
      "\n"
     ]
    }
   ],
   "source": [
    "# Evaluate\n",
    "y_pred = np.argmax(model.predict([X_test_lyrics, X_test_meta]), axis=1)\n",
    "y_true = y_test_labels\n",
    "test_acc = accuracy_score(y_true, y_pred)\n",
    "print(f\"Test Accuracy on held-out set: {test_acc:.4f}\")\n",
    "print(\"\\nClassification Report:\")\n",
    "print(classification_report(y_true, y_pred, target_names=le.classes_, zero_division=0))"
   ]
  },
  {
   "cell_type": "code",
   "execution_count": 47,
   "id": "833d592a",
   "metadata": {},
   "outputs": [
    {
     "data": {
      "image/png": "[encoded data removed]",
      "text/plain": [
       "<Figure size 1200x1000 with 2 Axes>"
      ]
     },
     "metadata": {},
     "output_type": "display_data"
    }
   ],
   "source": [
    "cm = confusion_matrix(y_true, y_pred)\n",
    "plt.figure(figsize=(12, 10))\n",
    "sns.heatmap(cm, annot=True, fmt='d', cmap='Blues', xticklabels=le.classes_, yticklabels=le.classes_)\n",
    "plt.title('Confusion Matrix')\n",
    "plt.xlabel('Predicted')\n",
    "plt.ylabel('Actual')\n",
    "plt.xticks(rotation=90)\n",
    "plt.tight_layout()\n",
    "plt.show()"
   ]
  },
  {
   "cell_type": "code",
   "execution_count": 48,
   "id": "abd3d0e1",
   "metadata": {},
   "outputs": [
    {
     "name": "stdout",
     "output_type": "stream",
     "text": [
      "\n",
      "Sample 55\n",
      "Actual Genre   : Rap\n",
      "Predicted Genre: Rock\n",
      "\n",
      "Sample 63\n",
      "Actual Genre   : Electronic\n",
      "Predicted Genre: Electronic\n",
      "\n",
      "Sample 33\n",
      "Actual Genre   : Rap\n",
      "Predicted Genre: Rap\n",
      "\n",
      "Sample 462\n",
      "Actual Genre   : Blues\n",
      "Predicted Genre: Rock\n",
      "\n",
      "Sample 72\n",
      "Actual Genre   : Rap\n",
      "Predicted Genre: Rap\n"
     ]
    }
   ],
   "source": [
    "# Random sample of predictions vs actual\n",
    "sample_idxs = np.random.choice(len(X_test_lyrics), size=5, replace=False)\n",
    "for i in sample_idxs:\n",
    "    actual = le.inverse_transform([y_test_labels[i]])[0]\n",
    "    predicted = le.inverse_transform([y_pred[i]])[0]\n",
    "    print(f\"\\nSample {i}\")\n",
    "    print(\"Actual Genre   :\", actual)\n",
    "    print(\"Predicted Genre:\", predicted) "
   ]
  }
 ],
 "metadata": {
  "jupytext": {
   "cell_metadata_filter": "-all",
   "formats": "ipynb,py",
   "main_language": "python"
  },
  "kernelspec": {
   "display_name": "Python 3",
   "language": "python",
   "name": "python3"
  },
  "language_info": {
   "codemirror_mode": {
    "name": "ipython",
    "version": 3
   },
   "file_extension": ".py",
   "mimetype": "text/x-python",
   "name": "python",
   "nbconvert_exporter": "python",
   "pygments_lexer": "ipython3",
   "version": "3.12.3"
  }
 },
 "nbformat": 4,
 "nbformat_minor": 5
}
