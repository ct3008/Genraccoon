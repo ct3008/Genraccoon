{
 "cells": [
  {
   "cell_type": "code",
   "execution_count": 1,
   "id": "4ec92974",
   "metadata": {},
   "outputs": [],
   "source": [
    "import pandas as pd\n",
    "import numpy as np\n",
    "import re\n",
    "import nltk\n",
    "from nltk.corpus import stopwords\n",
    "from gensim.models import Word2Vec\n",
    "from sklearn.model_selection import train_test_split\n",
    "from sklearn.utils import resample\n",
    "from sklearn.preprocessing import LabelEncoder, StandardScaler\n",
    "from sklearn.utils.class_weight import compute_class_weight\n",
    "from sklearn.metrics import accuracy_score, classification_report, confusion_matrix\n",
    "from tensorflow.keras.preprocessing.text import Tokenizer\n",
    "from tensorflow.keras.preprocessing.sequence import pad_sequences\n",
    "from tensorflow.keras.utils import to_categorical\n",
    "from tensorflow.keras.models import Model\n",
    "from tensorflow.keras.layers import Input, Embedding, LSTM, Dense, Dropout, Bidirectional, Concatenate\n",
    "from tensorflow.keras.callbacks import EarlyStopping\n",
    "import matplotlib.pyplot as plt\n",
    "import seaborn as sns\n",
    "import sys"
   ]
  },
  {
   "cell_type": "code",
   "execution_count": 2,
   "id": "13168f63",
   "metadata": {},
   "outputs": [
    {
     "name": "stderr",
     "output_type": "stream",
     "text": [
      "[nltk_data] Downloading package stopwords to\n",
      "[nltk_data]     /Users/aarushisharma/nltk_data...\n",
      "[nltk_data]   Package stopwords is already up-to-date!\n"
     ]
    },
    {
     "data": {
      "text/plain": [
       "True"
      ]
     },
     "execution_count": 2,
     "metadata": {},
     "output_type": "execute_result"
    }
   ],
   "source": [
    "# Download stopwords if not already present\n",
    "nltk.download('stopwords')"
   ]
  },
  {
   "cell_type": "code",
   "execution_count": 3,
   "id": "59a6e0d7",
   "metadata": {},
   "outputs": [],
   "source": [
    "# Set random seed for reproducibility\n",
    "SEED = 42\n",
    "np.random.seed(SEED)"
   ]
  },
  {
   "cell_type": "code",
   "execution_count": 4,
   "id": "6b956395",
   "metadata": {
    "lines_to_next_cell": 1
   },
   "outputs": [],
   "source": [
    "# Load and preprocess data\n",
    "df = pd.read_csv(\"msd_dataset_with_only_clean_lyrics.csv\")\n",
    "df = df[~df['genre'].isna() & ~df['lyrics'].isna()]\n",
    "stopwords_set = set(stopwords.words('english'))"
   ]
  },
  {
   "cell_type": "code",
   "execution_count": 5,
   "id": "0c5514c4",
   "metadata": {
    "lines_to_next_cell": 1
   },
   "outputs": [],
   "source": [
    "def clean_lyrics(text):\n",
    "    text = re.sub(r\"[^a-zA-Z\\s]\", \"\", text.lower())\n",
    "    tokens = text.split()\n",
    "    return ' '.join([t for t in tokens if t not in stopwords_set])"
   ]
  },
  {
   "cell_type": "code",
   "execution_count": 6,
   "id": "be9ac48c",
   "metadata": {},
   "outputs": [],
   "source": [
    "df['cleaned_lyrics'] = df['lyrics'].apply(clean_lyrics)\n",
    "genre_counts = df['genre'].value_counts()\n",
    "valid_genres = genre_counts[genre_counts >= 20].index\n",
    "df = df[df['genre'].isin(valid_genres)]"
   ]
  },
  {
   "cell_type": "code",
   "execution_count": 7,
   "id": "3dfe4428",
   "metadata": {},
   "outputs": [],
   "source": [
    "# Dynamically downsample overly dominant genres\n",
    "threshold = 0.3 * len(df)  # e.g., no class should take more than 30% of the data\n",
    "balanced_dfs = []\n",
    "for genre, count in df['genre'].value_counts().items():\n",
    "    genre_df = df[df['genre'] == genre]\n",
    "    if count > threshold:\n",
    "        genre_df = resample(genre_df, replace=False, n_samples=int(threshold), random_state=SEED)\n",
    "    balanced_dfs.append(genre_df)\n",
    "df = pd.concat(balanced_dfs).sample(frac=1, random_state=SEED)"
   ]
  },
  {
   "cell_type": "code",
   "execution_count": 8,
   "id": "b5b79779",
   "metadata": {},
   "outputs": [],
   "source": [
    "# Tokenization\n",
    "tokenized = df['cleaned_lyrics'].apply(str.split)\n",
    "w2v_model = Word2Vec(sentences=tokenized, vector_size=50, window=5, min_count=3, workers=4)\n",
    "valid_words = set(w2v_model.wv.index_to_key)"
   ]
  },
  {
   "cell_type": "code",
   "execution_count": 9,
   "id": "b2ff8986",
   "metadata": {
    "lines_to_next_cell": 1
   },
   "outputs": [],
   "source": [
    "# Tokenizer\n",
    "tokenizer = Tokenizer()\n",
    "tokenizer.fit_on_texts(df['cleaned_lyrics'])\n",
    "filtered_index = {word: i+1 for i, word in enumerate(valid_words)}\n",
    "tokenizer.word_index = filtered_index\n",
    "tokenizer.index_word = {i: word for word, i in filtered_index.items()}"
   ]
  },
  {
   "cell_type": "code",
   "execution_count": 10,
   "id": "6d2c55bb",
   "metadata": {
    "lines_to_next_cell": 1
   },
   "outputs": [],
   "source": [
    "# Create sliding windows\n",
    "def create_sliding_windows(seq, window_size=100, step_size=50):\n",
    "    windows = []\n",
    "    for start in range(0, len(seq) - window_size + 1, step_size):\n",
    "        windows.append(seq[start:start+window_size])\n",
    "    if not windows and len(seq) > 0:\n",
    "        windows.append(seq[:window_size])\n",
    "    return windows"
   ]
  },
  {
   "cell_type": "code",
   "execution_count": 11,
   "id": "85bc6032",
   "metadata": {},
   "outputs": [],
   "source": [
    "X_seq = []\n",
    "y_seq = []\n",
    "labels = df['genre'].tolist()\n",
    "tokenized_seqs = tokenizer.texts_to_sequences(df['cleaned_lyrics'])"
   ]
  },
  {
   "cell_type": "code",
   "execution_count": 12,
   "id": "9c3aad9e",
   "metadata": {},
   "outputs": [],
   "source": [
    "for i, seq in enumerate(tokenized_seqs):\n",
    "    windows = create_sliding_windows(seq, window_size=100, step_size=50)\n",
    "    for window in windows:\n",
    "        padded = pad_sequences([window], maxlen=100)[0]\n",
    "        X_seq.append(padded)\n",
    "        y_seq.append(labels[i])"
   ]
  },
  {
   "cell_type": "code",
   "execution_count": 14,
   "id": "15820ddd",
   "metadata": {},
   "outputs": [],
   "source": [
    "X = np.array(X_seq)\n",
    "le = LabelEncoder()\n",
    "y_labels = le.fit_transform(y_seq)\n",
    "y = to_categorical(y_labels)"
   ]
  },
  {
   "cell_type": "code",
   "execution_count": 15,
   "id": "29a6e2d4",
   "metadata": {},
   "outputs": [],
   "source": [
    "embedding_matrix = np.zeros((len(filtered_index) + 1, 50))\n",
    "for word, i in filtered_index.items():\n",
    "    embedding_matrix[i] = w2v_model.wv[word]"
   ]
  },
  {
   "cell_type": "code",
   "execution_count": 16,
   "id": "9b6360d5",
   "metadata": {},
   "outputs": [],
   "source": [
    "# Metadata features\n",
    "meta_features = ['duration','tempo','key','loudness'] + [\n",
    "    f'pitch_mean_{i}' for i in range(12)\n",
    "] + [f'pitch_std_{i}' for i in range(12)] + [f'timbre_mean_{i}' for i in range(12)] + [f'timbre_std_{i}' for i in range(12)]\n",
    "df[meta_features] = df[meta_features].fillna(0)\n",
    "scaler = StandardScaler()\n",
    "# Expand metadata to align with sliding windows\n",
    "meta_rows = []\n",
    "for i, seq in enumerate(tokenized_seqs):\n",
    "    windows = create_sliding_windows(seq, window_size=100, step_size=50)\n",
    "    num_windows = len(windows)\n",
    "    meta_row = df.iloc[i][meta_features].values\n",
    "    for _ in range(num_windows):\n",
    "        meta_rows.append(meta_row)"
   ]
  },
  {
   "cell_type": "code",
   "execution_count": 17,
   "id": "9e1172f2",
   "metadata": {},
   "outputs": [],
   "source": [
    "X_meta_all = np.array(meta_rows)\n",
    "X_meta_all = scaler.fit_transform(X_meta_all)"
   ]
  },
  {
   "cell_type": "code",
   "execution_count": 18,
   "id": "9259730e",
   "metadata": {},
   "outputs": [],
   "source": [
    "# Split\n",
    "test_size = 0.3\n",
    "val_size = 0.5\n",
    "X_train_lyrics, X_temp_lyrics, X_train_meta, X_temp_meta, y_train, y_temp, y_train_labels, y_temp_labels = train_test_split(\n",
    "    X, X_meta_all, y, y_labels, test_size=test_size, stratify=y_labels, random_state=SEED\n",
    ")\n",
    "X_val_lyrics, X_test_lyrics, X_val_meta, X_test_meta, y_val, y_test, y_val_labels, y_test_labels = train_test_split(\n",
    "    X_temp_lyrics, X_temp_meta, y_temp, y_temp_labels, test_size=val_size, stratify=y_temp_labels, random_state=SEED\n",
    ")"
   ]
  },
  {
   "cell_type": "code",
   "execution_count": 19,
   "id": "f2cd57ec",
   "metadata": {},
   "outputs": [],
   "source": [
    "# Build and train LSTM model\n",
    "input_lyrics = Input(shape=(100,))\n",
    "x = Embedding(input_dim=embedding_matrix.shape[0], output_dim=50,\n",
    "              weights=[embedding_matrix], trainable=False)(input_lyrics)\n",
    "x = Bidirectional(LSTM(64))(x)\n",
    "x = Dropout(0.3)(x)"
   ]
  },
  {
   "cell_type": "code",
   "execution_count": 20,
   "id": "173ec89f",
   "metadata": {},
   "outputs": [],
   "source": [
    "input_meta = Input(shape=(X_train_meta.shape[1],))\n",
    "combined = Concatenate()([x, input_meta])\n",
    "output = Dense(y.shape[1], activation='softmax')(combined)"
   ]
  },
  {
   "cell_type": "code",
   "execution_count": 21,
   "id": "a4e0b90f",
   "metadata": {},
   "outputs": [],
   "source": [
    "model = Model(inputs=[input_lyrics, input_meta], outputs=output)\n",
    "model.compile(optimizer='adam', loss='categorical_crossentropy', metrics=['accuracy'])"
   ]
  },
  {
   "cell_type": "code",
   "execution_count": 22,
   "id": "4665e33f",
   "metadata": {},
   "outputs": [
    {
     "name": "stdout",
     "output_type": "stream",
     "text": [
      "Epoch 1/20\n",
      "\u001b[1m35/35\u001b[0m \u001b[32m━━━━━━━━━━━━━━━━━━━━\u001b[0m\u001b[37m\u001b[0m \u001b[1m4s\u001b[0m 61ms/step - accuracy: 0.1061 - loss: 2.7373 - val_accuracy: 0.2671 - val_loss: 2.2058\n",
      "Epoch 2/20\n",
      "\u001b[1m35/35\u001b[0m \u001b[32m━━━━━━━━━━━━━━━━━━━━\u001b[0m\u001b[37m\u001b[0m \u001b[1m2s\u001b[0m 52ms/step - accuracy: 0.2730 - loss: 2.1378 - val_accuracy: 0.3675 - val_loss: 1.9298\n",
      "Epoch 3/20\n",
      "\u001b[1m35/35\u001b[0m \u001b[32m━━━━━━━━━━━━━━━━━━━━\u001b[0m\u001b[37m\u001b[0m \u001b[1m2s\u001b[0m 67ms/step - accuracy: 0.3383 - loss: 1.9672 - val_accuracy: 0.3782 - val_loss: 1.8135\n",
      "Epoch 4/20\n",
      "\u001b[1m35/35\u001b[0m \u001b[32m━━━━━━━━━━━━━━━━━━━━\u001b[0m\u001b[37m\u001b[0m \u001b[1m4s\u001b[0m 102ms/step - accuracy: 0.3777 - loss: 1.8540 - val_accuracy: 0.4338 - val_loss: 1.6985\n",
      "Epoch 5/20\n",
      "\u001b[1m35/35\u001b[0m \u001b[32m━━━━━━━━━━━━━━━━━━━━\u001b[0m\u001b[37m\u001b[0m \u001b[1m3s\u001b[0m 97ms/step - accuracy: 0.4329 - loss: 1.7211 - val_accuracy: 0.4487 - val_loss: 1.6392\n",
      "Epoch 6/20\n",
      "\u001b[1m35/35\u001b[0m \u001b[32m━━━━━━━━━━━━━━━━━━━━\u001b[0m\u001b[37m\u001b[0m \u001b[1m4s\u001b[0m 100ms/step - accuracy: 0.4597 - loss: 1.6431 - val_accuracy: 0.4744 - val_loss: 1.6148\n",
      "Epoch 7/20\n",
      "\u001b[1m35/35\u001b[0m \u001b[32m━━━━━━━━━━━━━━━━━━━━\u001b[0m\u001b[37m\u001b[0m \u001b[1m3s\u001b[0m 96ms/step - accuracy: 0.4784 - loss: 1.5892 - val_accuracy: 0.4850 - val_loss: 1.5615\n",
      "Epoch 8/20\n",
      "\u001b[1m35/35\u001b[0m \u001b[32m━━━━━━━━━━━━━━━━━━━━\u001b[0m\u001b[37m\u001b[0m \u001b[1m3s\u001b[0m 96ms/step - accuracy: 0.4854 - loss: 1.5792 - val_accuracy: 0.4808 - val_loss: 1.5342\n",
      "Epoch 9/20\n",
      "\u001b[1m35/35\u001b[0m \u001b[32m━━━━━━━━━━━━━━━━━━━━\u001b[0m\u001b[37m\u001b[0m \u001b[1m4s\u001b[0m 100ms/step - accuracy: 0.5041 - loss: 1.4801 - val_accuracy: 0.4979 - val_loss: 1.4893\n",
      "Epoch 10/20\n",
      "\u001b[1m35/35\u001b[0m \u001b[32m━━━━━━━━━━━━━━━━━━━━\u001b[0m\u001b[37m\u001b[0m \u001b[1m3s\u001b[0m 97ms/step - accuracy: 0.5178 - loss: 1.4791 - val_accuracy: 0.5000 - val_loss: 1.4670\n",
      "Epoch 11/20\n",
      "\u001b[1m35/35\u001b[0m \u001b[32m━━━━━━━━━━━━━━━━━━━━\u001b[0m\u001b[37m\u001b[0m \u001b[1m3s\u001b[0m 95ms/step - accuracy: 0.5270 - loss: 1.4398 - val_accuracy: 0.5043 - val_loss: 1.4719\n",
      "Epoch 12/20\n",
      "\u001b[1m35/35\u001b[0m \u001b[32m━━━━━━━━━━━━━━━━━━━━\u001b[0m\u001b[37m\u001b[0m \u001b[1m4s\u001b[0m 100ms/step - accuracy: 0.5238 - loss: 1.4333 - val_accuracy: 0.5064 - val_loss: 1.4427\n",
      "Epoch 13/20\n",
      "\u001b[1m35/35\u001b[0m \u001b[32m━━━━━━━━━━━━━━━━━━━━\u001b[0m\u001b[37m\u001b[0m \u001b[1m3s\u001b[0m 99ms/step - accuracy: 0.5617 - loss: 1.3674 - val_accuracy: 0.5321 - val_loss: 1.4245\n",
      "Epoch 14/20\n",
      "\u001b[1m35/35\u001b[0m \u001b[32m━━━━━━━━━━━━━━━━━━━━\u001b[0m\u001b[37m\u001b[0m \u001b[1m4s\u001b[0m 118ms/step - accuracy: 0.5409 - loss: 1.4082 - val_accuracy: 0.5150 - val_loss: 1.4267\n",
      "Epoch 15/20\n",
      "\u001b[1m35/35\u001b[0m \u001b[32m━━━━━━━━━━━━━━━━━━━━\u001b[0m\u001b[37m\u001b[0m \u001b[1m3s\u001b[0m 96ms/step - accuracy: 0.5349 - loss: 1.3658 - val_accuracy: 0.5107 - val_loss: 1.4213\n",
      "Epoch 16/20\n",
      "\u001b[1m35/35\u001b[0m \u001b[32m━━━━━━━━━━━━━━━━━━━━\u001b[0m\u001b[37m\u001b[0m \u001b[1m3s\u001b[0m 95ms/step - accuracy: 0.5729 - loss: 1.3344 - val_accuracy: 0.5449 - val_loss: 1.3905\n",
      "Epoch 17/20\n",
      "\u001b[1m35/35\u001b[0m \u001b[32m━━━━━━━━━━━━━━━━━━━━\u001b[0m\u001b[37m\u001b[0m \u001b[1m4s\u001b[0m 108ms/step - accuracy: 0.5731 - loss: 1.3328 - val_accuracy: 0.5321 - val_loss: 1.3894\n",
      "Epoch 18/20\n",
      "\u001b[1m35/35\u001b[0m \u001b[32m━━━━━━━━━━━━━━━━━━━━\u001b[0m\u001b[37m\u001b[0m \u001b[1m4s\u001b[0m 100ms/step - accuracy: 0.5805 - loss: 1.3101 - val_accuracy: 0.5321 - val_loss: 1.3854\n",
      "Epoch 19/20\n",
      "\u001b[1m35/35\u001b[0m \u001b[32m━━━━━━━━━━━━━━━━━━━━\u001b[0m\u001b[37m\u001b[0m \u001b[1m4s\u001b[0m 110ms/step - accuracy: 0.5596 - loss: 1.3120 - val_accuracy: 0.5278 - val_loss: 1.3960\n"
     ]
    }
   ],
   "source": [
    "# Early stopping\n",
    "early = EarlyStopping(monitor='val_accuracy', patience=3, restore_best_weights=True)\n",
    "history = model.fit([X_train_lyrics, X_train_meta], y_train,\n",
    "          validation_data=([X_val_lyrics, X_val_meta], y_val),\n",
    "          batch_size=64, epochs=20, callbacks=[early], verbose=1)"
   ]
  },
  {
   "cell_type": "code",
   "execution_count": 23,
   "id": "f4d82af3",
   "metadata": {},
   "outputs": [
    {
     "name": "stdout",
     "output_type": "stream",
     "text": [
      "\u001b[1m15/15\u001b[0m \u001b[32m━━━━━━━━━━━━━━━━━━━━\u001b[0m\u001b[37m\u001b[0m \u001b[1m1s\u001b[0m 24ms/step\n"
     ]
    }
   ],
   "source": [
    "# Evaluate\n",
    "y_pred = np.argmax(model.predict([X_test_lyrics, X_test_meta]), axis=1)\n",
    "y_true = y_test_labels"
   ]
  },
  {
   "cell_type": "code",
   "execution_count": 24,
   "id": "ba071897",
   "metadata": {},
   "outputs": [
    {
     "name": "stdout",
     "output_type": "stream",
     "text": [
      "Test Accuracy on held-out set: 0.4979\n",
      "\n",
      "Classification Report:\n",
      "              precision    recall  f1-score   support\n",
      "\n",
      "       Blues       0.81      0.57      0.67        30\n",
      "     Country       0.50      0.13      0.21        15\n",
      "  Electronic       0.75      0.27      0.40        22\n",
      "        Folk       1.00      0.25      0.40         4\n",
      "        Jazz       0.27      0.09      0.14        32\n",
      "       Latin       0.10      0.10      0.10        10\n",
      "       Metal       0.56      0.60      0.58        25\n",
      "         Pop       0.30      0.41      0.35        69\n",
      "        Punk       0.17      0.11      0.13         9\n",
      "         Rap       0.70      0.86      0.77        93\n",
      "      Reggae       0.75      0.55      0.63        33\n",
      "         RnB       1.00      0.36      0.53        11\n",
      "        Rock       0.39      0.50      0.44       115\n",
      "\n",
      "    accuracy                           0.50       468\n",
      "   macro avg       0.56      0.37      0.41       468\n",
      "weighted avg       0.52      0.50      0.49       468\n",
      "\n"
     ]
    }
   ],
   "source": [
    "test_acc = accuracy_score(y_true, y_pred)\n",
    "print(f\"Test Accuracy on held-out set: {test_acc:.4f}\")\n",
    "print(\"\\nClassification Report:\")\n",
    "print(classification_report(y_true, y_pred, target_names=le.classes_, zero_division=0))"
   ]
  },
  {
   "cell_type": "code",
   "execution_count": 25,
   "id": "701aab19",
   "metadata": {},
   "outputs": [
    {
     "data": {
      "image/png": "[encoded data removed]",
      "text/plain": [
       "<Figure size 1200x1000 with 2 Axes>"
      ]
     },
     "metadata": {},
     "output_type": "display_data"
    }
   ],
   "source": [
    "cm = confusion_matrix(y_true, y_pred)\n",
    "plt.figure(figsize=(12, 10))\n",
    "sns.heatmap(cm, annot=True, fmt='d', cmap='Blues', xticklabels=le.classes_, yticklabels=le.classes_)\n",
    "plt.title('Confusion Matrix')\n",
    "plt.xlabel('Predicted')\n",
    "plt.ylabel('Actual')\n",
    "plt.xticks(rotation=90)\n",
    "plt.tight_layout()\n",
    "plt.show()"
   ]
  },
  {
   "cell_type": "code",
   "execution_count": 26,
   "id": "44e20232",
   "metadata": {},
   "outputs": [
    {
     "name": "stdout",
     "output_type": "stream",
     "text": [
      "\n",
      "Sample 55\n",
      "Actual Genre   : Metal\n",
      "Predicted Genre: Metal\n",
      "\n",
      "Sample 63\n",
      "Actual Genre   : Rap\n",
      "Predicted Genre: Rap\n",
      "\n",
      "Sample 33\n",
      "Actual Genre   : Rock\n",
      "Predicted Genre: Rock\n",
      "\n",
      "Sample 297\n",
      "Actual Genre   : Latin\n",
      "Predicted Genre: Latin\n",
      "\n",
      "Sample 72\n",
      "Actual Genre   : Jazz\n",
      "Predicted Genre: Rock\n"
     ]
    }
   ],
   "source": [
    "# Random sample of predictions vs actual\n",
    "sample_idxs = np.random.choice(len(X_test_lyrics), size=5, replace=False)\n",
    "for i in sample_idxs:\n",
    "    actual = le.inverse_transform([y_test_labels[i]])[0]\n",
    "    predicted = le.inverse_transform([y_pred[i]])[0]\n",
    "    print(f\"\\nSample {i}\")\n",
    "    print(\"Actual Genre   :\", actual)\n",
    "    print(\"Predicted Genre:\", predicted)"
   ]
  }
 ],
 "metadata": {
  "jupytext": {
   "cell_metadata_filter": "-all",
   "formats": "ipynb,py",
   "main_language": "python"
  },
  "kernelspec": {
   "display_name": "Python 3",
   "language": "python",
   "name": "python3"
  },
  "language_info": {
   "codemirror_mode": {
    "name": "ipython",
    "version": 3
   },
   "file_extension": ".py",
   "mimetype": "text/x-python",
   "name": "python",
   "nbconvert_exporter": "python",
   "pygments_lexer": "ipython3",
   "version": "3.12.3"
  }
 },
 "nbformat": 4,
 "nbformat_minor": 5
}
